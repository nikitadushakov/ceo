{
 "cells": [
  {
   "cell_type": "code",
   "execution_count": 132,
   "id": "614d2169",
   "metadata": {},
   "outputs": [],
   "source": [
    "import requests\n",
    "from bs4 import BeautifulSoup\n",
    "from tqdm.notebook import tqdm\n",
    "import warnings\n",
    "import unicodedata\n",
    "import json"
   ]
  },
  {
   "cell_type": "code",
   "execution_count": 107,
   "id": "bbaf4e38",
   "metadata": {},
   "outputs": [],
   "source": [
    "# d_ex = {\n",
    "#     'title': pass,\n",
    "#     'text': pass,\n",
    "#     'source': pass,\n",
    "#     'date': pass\n",
    "# }"
   ]
  },
  {
   "cell_type": "code",
   "execution_count": 108,
   "id": "ed7ebc5e",
   "metadata": {},
   "outputs": [
    {
     "name": "stdout",
     "output_type": "stream",
     "text": [
      "[<span>От RBC</span>, <span class=\"date\"> - 1 час назад</span>]\n",
      "[<span>От RBC</span>, <span class=\"date\"> - 2 часа назад</span>]\n",
      "[<span>От Gazeta</span>, <span class=\"date\"> - 2 часа назад</span>]\n",
      "[<span>От RBC</span>, <span class=\"date\"> - 2 часа назад</span>]\n",
      "[<span>От Gazeta</span>, <span class=\"date\"> - 4 часа назад</span>]\n",
      "[<span>От RBC</span>, <span class=\"date\"> - 5 часов назад</span>]\n",
      "[<span>От Forklog</span>, <span class=\"date\"> - 8 часов назад</span>]\n",
      "[<span>От Gazeta</span>, <span class=\"date\"> - 8 часов назад</span>]\n",
      "[<span>От Gazeta</span>, <span class=\"date\"> - 10 часов назад</span>]\n",
      "[<span>От RBC</span>, <span class=\"date\"> - 10 часов назад</span>]\n",
      "[<span>От Forklog</span>, <span class=\"date\"> - 12 часов назад</span>]\n",
      "[<span>От RG</span>, <span class=\"date\"> - 15 часов назад</span>]\n",
      "[<span>От RG</span>, <span class=\"date\"> - 15 часов назад</span>]\n",
      "[<span>От RG</span>, <span class=\"date\"> - 15 часов назад</span>]\n",
      "[<span>От RBC</span>, <span class=\"date\"> - 16 часов назад</span>]\n",
      "[<span>От RBC</span>, <span class=\"date\"> - 17 часов назад</span>]\n",
      "[<span>От RG</span>, <span class=\"date\"> - 19 часов назад</span>]\n",
      "[<span>От Gazeta</span>, <span class=\"date\"> - 19 часов назад</span>]\n",
      "[<span>От Gazeta</span>, <span class=\"date\"> - 20 часов назад</span>]\n",
      "[<span>От RBC</span>, <span class=\"date\"> - 23 часа назад</span>]\n",
      "[<span>Investing.com</span>, <span class=\"date\"> - 05.11.2021</span>]\n",
      "[<span>От RBC</span>, <span class=\"date\"> - 06.11.2021</span>]\n",
      "[<span>От RBC</span>, <span class=\"date\"> - 06.11.2021</span>]\n",
      "[<span>IFX</span>, <span class=\"date\"> - 05.11.2021</span>]\n",
      "[<span>Reuters</span>, <span class=\"date\"> - 05.11.2021</span>]\n",
      "[<span>Reuters</span>, <span class=\"date\"> - 05.11.2021</span>]\n",
      "[<span>От ПРАЙМ</span>, <span class=\"date\"> - 05.11.2021</span>]\n",
      "[<span>IFX</span>, <span class=\"date\"> - 05.11.2021</span>]\n",
      "[<span>От Gazeta</span>, <span class=\"date\"> - 05.11.2021</span>]\n",
      "[<span>IFX</span>, <span class=\"date\"> - 05.11.2021</span>]\n",
      "[<span>Reuters</span>, <span class=\"date\"> - 05.11.2021</span>]\n",
      "[<span>IFX</span>, <span class=\"date\"> - 05.11.2021</span>]\n",
      "[<span>Investing.com</span>, <span class=\"date\"> - 05.11.2021</span>]\n",
      "[<span>От RBC</span>, <span class=\"date\"> - 05.11.2021</span>]\n",
      "[<span>IFX</span>, <span class=\"date\"> - 05.11.2021</span>]\n"
     ]
    }
   ],
   "source": [
    "for x in soup.find('div', class_='largeTitle').find_all(class_='articleDetails'):\n",
    "    print(x.find_all('span'))"
   ]
  },
  {
   "cell_type": "code",
   "execution_count": 109,
   "id": "b4436fed",
   "metadata": {},
   "outputs": [
    {
     "name": "stdout",
     "output_type": "stream",
     "text": [
      "Фридман предупредил о рисках быстрого отказа от газа\n",
      "Маск спросил в Twitter, стоит ли ему продать 10% акции Tesla\n",
      "Судебные приставы начали процедуру по взысканию штрафов с Telegram\n",
      "Судебные приставы подключились к взысканию ₽5 млн с Telegram\n",
      "Маск предложил пользователям Twitter принять за него решение о продаже части акций Tesla\n",
      "Экс-министр предупредил о разорении 91% украинских предприятий из-за газа\n",
      "Вестник институционала: FTX привлекла $420 млн, а Mythical Games оценили в $1,25 млрд\n",
      "Аналитик спрогнозировал стоимость подписки на Telegram без рекламы\n",
      "Дуров анонсировал появление платной подписки в Telegram\n",
      "Дуров допустил введение в Telegram платы для отключения рекламы\n",
      "В Китае арестовали 31 майнера Filecoin с конфискацией $62,5 млн\n",
      "Китайский мультфильм \"Зеленая змея\" выйдет на Netflix\n",
      "WSJ: 360 миллионов пользователей Facebook зависимы от соцсетей\n",
      "Netflix Russia анонсировал выход тайваньского сериала \"Свет в ночи\"\n",
      "В России впервые выявили более 41 тыс. случаев COVID за сутки\n",
      "Борьба с поддельными сертификатами. Актуальное о COVID на 6 ноября\n",
      "GM складирует пикапы без микрочипов на бывшем заводе микрочипов\n",
      "Депутат Европарламента обвинил Россию в манипуляции ситуацией на рынке газа\n",
      "Apple наняла бывшего инженера Tesla для работы над своим электрокаром\n",
      "В Роспотребнадзоре назвали способ постановки точного диагноза COVID-19\n",
      "Рынок акций США закрылся ростом, Dow Jones прибавил 0,56%\n",
      "CNN назвал цель визита главы ЦРУ в Москву\n",
      "Spiegel узнал об игнорировании властями ФРГ позиции Польши по Nord Stream\n",
      "Капитализация российского рынка акций Московской биржи в секторе Основной рынок на 5 ноября снизилась на 0,26% и составила 66002,354 млрд руб.\n",
      "ГРАФИК-Пятерка в фокусе: эпоха Си, трудности мировой торговли, Европа на пике\n",
      "ЦИАН может использовать деньги от IPO на M&A или погашение долга - глава компании\n",
      "В Молдавии рассказали о соглашении с \"Газпромом\" по долгу за газ\n",
      "Рынок российских акций торгуется разнонаправленно\n",
      "Spiegel: Германия проигнорировала мнение Польши, оценивая \"Северный поток - 2\"\n",
      "Американские фондовые индексы уверенно растут\n",
      "Цены на газ в Европе разнонаправленны\n",
      "Рынок акций Московской биржи по состоянию на 16:00 мск 5 ноября движется разнонаправленно\n",
      "Самые популярные акции: Tesla, Activision Blizzard и не только\n",
      "Pfizer заявила об эффективности нового препарата против COVID в таблетках\n",
      "Рынок акций Московской биржи по состоянию на 14:30 мск 5 ноября движется разнонаправленно\n"
     ]
    }
   ],
   "source": [
    "for x in soup.find('div', class_='largeTitle').find_all('a', class_='title'):\n",
    "    print(x.text)"
   ]
  },
  {
   "cell_type": "code",
   "execution_count": 70,
   "id": "24733448",
   "metadata": {},
   "outputs": [
    {
     "name": "stdout",
     "output_type": "stream",
     "text": [
      " 2 часа назад\n",
      " 2 часа назад\n",
      " 6 часов назад\n",
      " 6 часов назад\n",
      " 7 часов назад\n",
      " 8 часов назад\n",
      " 9 часов назад\n",
      " 12 часов назад\n",
      " 12 часов назад\n",
      " 13 часов назад\n",
      " 14 часов назад\n",
      " 15 часов назад\n",
      " 16 часов назад\n",
      " 16 часов назад\n",
      " 18 часов назад\n",
      " 20 часов назад\n",
      " 05.11.2021\n",
      " 22 часа назад\n",
      " 23 часа назад\n",
      " 05.11.2021\n",
      " 05.11.2021\n",
      " 05.11.2021\n",
      " 05.11.2021\n",
      " 05.11.2021\n",
      " 05.11.2021\n",
      " 05.11.2021\n",
      " 05.11.2021\n",
      " 05.11.2021\n",
      " 05.11.2021\n",
      " 05.11.2021\n",
      " 05.11.2021\n",
      " 05.11.2021\n",
      " 05.11.2021\n",
      " 05.11.2021\n",
      " 05.11.2021\n"
     ]
    }
   ],
   "source": [
    "for x in soup.find('div', class_='largeTitle').find_all(class_='articleDetails'):\n",
    "    print(x.find(class_='date').text[2:])"
   ]
  },
  {
   "cell_type": "code",
   "execution_count": 78,
   "id": "36ed1be1",
   "metadata": {},
   "outputs": [],
   "source": [
    "text = 'Test text Test text Test text Test text Test text Test text Test text Test text Test text Test text Test text Test text Test text Test text Test text Test text Test text Test text Test text '"
   ]
  },
  {
   "cell_type": "code",
   "execution_count": 130,
   "id": "8f5d7945",
   "metadata": {},
   "outputs": [
    {
     "data": {
      "application/vnd.jupyter.widget-view+json": {
       "model_id": "4981ea830c6f4e529d4c486b8fef1417",
       "version_major": 2,
       "version_minor": 0
      },
      "text/plain": [
       "  0%|          | 0/100 [00:00<?, ?it/s]"
      ]
     },
     "metadata": {},
     "output_type": "display_data"
    }
   ],
   "source": [
    "d = {'1': []}\n",
    "for i in tqdm(range(100)):\n",
    "    url_main = 'https://ru.investing.com/news/stock-market-news/'\n",
    "    url = url_main if i == 0 else url_main + str(i)\n",
    "    req = requests.get(url, headers={'User-Agent': 'Mozilla/5.0 (Macintosh; Intel Mac OS X 10_10_1) AppleWebKit/537.36 (KHTML, like Gecko) Chrome/39.0.2171.95 Safari/537.36'})\n",
    "    soup = BeautifulSoup(req.text).find('div', class_='largeTitle')\n",
    "    article_details = [x.find_all('span') for x in soup.find_all(class_='articleDetails')]\n",
    "    titles = soup.find_all('a', class_='title')\n",
    "    for k in range(len(titles)):\n",
    "        d_curr = {}\n",
    "        d_curr['title'] = unicodedata.normalize(\"NFKD\", titles[k].text)\n",
    "        d_curr['text'] = text\n",
    "        d_curr['source'] = unicodedata.normalize(\"NFKD\", article_details[k][0].text)\n",
    "        d_curr['date'] = unicodedata.normalize(\"NFKD\", article_details[k][1].text[2:])\n",
    "        d['1'].append(d_curr)"
   ]
  },
  {
   "cell_type": "code",
   "execution_count": 133,
   "id": "b28731b0",
   "metadata": {},
   "outputs": [],
   "source": [
    "with open('data.json', 'w') as f:\n",
    "    json.dump(d, f)"
   ]
  },
  {
   "cell_type": "code",
   "execution_count": null,
   "id": "fbcafae9",
   "metadata": {},
   "outputs": [],
   "source": []
  }
 ],
 "metadata": {
  "kernelspec": {
   "display_name": "Python 3",
   "language": "python",
   "name": "python3"
  },
  "language_info": {
   "codemirror_mode": {
    "name": "ipython",
    "version": 3
   },
   "file_extension": ".py",
   "mimetype": "text/x-python",
   "name": "python",
   "nbconvert_exporter": "python",
   "pygments_lexer": "ipython3",
   "version": "3.8.8"
  }
 },
 "nbformat": 4,
 "nbformat_minor": 5
}
